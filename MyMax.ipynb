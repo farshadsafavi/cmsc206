{
 "cells": [
  {
   "cell_type": "code",
   "execution_count": 33,
   "metadata": {},
   "outputs": [
    {
     "name": "stdout",
     "output_type": "stream",
     "text": [
      "s\n",
      "8\n",
      "2\n",
      "z\n",
      "Mohamad\n"
     ]
    }
   ],
   "source": [
    "# Programmer: Farshad Safavi\n",
    "def MyMax(nums_or_strings):\n",
    "    if len(nums_or_strings) == 0:\n",
    "        return \n",
    "    myMax = nums_or_strings[0]\n",
    "    for i in nums_or_strings:\n",
    "        myMax = return_greater(i, myMax)\n",
    "    print(myMax)\n",
    "    return myMax\n",
    "        \n",
    "def return_greater(x, y):\n",
    "    if x > y:\n",
    "        return x\n",
    "    else:\n",
    "        return y\n",
    "\n",
    "assert MyMax(\"farshad\") == max(\"farshad\"), \"MyMax is not equal to buildt-in max() function\"\n",
    "assert MyMax([1,2,3,4,5,6,7,8]) == max([1,2,3,4,5,6,7,8]), \"MyMax is not equal to buildt-in max() function\"\n",
    "assert MyMax(\"1,2\") == max(\"2,1\"), \"MyMax is not equal to buildt-in max() function\"\n",
    "assert MyMax(\"[a-z][A-Z]\") == max(\"[a-z][A-Z]\"), \"MyMax is not equal to buildt-in max() function\"\n",
    "assert MyMax([\"Farshad\", \"Gary\", \"Ali\", \"Mohamad\"]) == max(\"Farshad\", \"Gary\", \"Ali\", \"Mohamad\"), \"MyMax is not equal to buildt-in max() function\""
   ]
  },
  {
   "cell_type": "code",
   "execution_count": null,
   "metadata": {},
   "outputs": [],
   "source": []
  }
 ],
 "metadata": {
  "kernelspec": {
   "display_name": "Python 3",
   "language": "python",
   "name": "python3"
  },
  "language_info": {
   "codemirror_mode": {
    "name": "ipython",
    "version": 3
   },
   "file_extension": ".py",
   "mimetype": "text/x-python",
   "name": "python",
   "nbconvert_exporter": "python",
   "pygments_lexer": "ipython3",
   "version": "3.6.10"
  }
 },
 "nbformat": 4,
 "nbformat_minor": 4
}
